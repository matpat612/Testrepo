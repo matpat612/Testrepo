{
 "cells": [
  {
   "cell_type": "markdown",
   "id": "7126e16b-23dc-40d9-8ae3-82ad2633be4a",
   "metadata": {},
   "source": [
    "# Data Science Tools and Ecosystem"
   ]
  },
  {
   "cell_type": "markdown",
   "id": "a5732344-2c14-42d5-9ff0-98de63bcd6ae",
   "metadata": {},
   "source": [
    "In this notebook, Data science Tools and Ecosystem are summarized. "
   ]
  },
  {
   "cell_type": "markdown",
   "id": "38b89b0c-fd41-4aeb-a88e-4c6295ef2b53",
   "metadata": {},
   "source": [
    "Some of the popular languages that Data Scientists use are:\n",
    "1. Python\n",
    "2. R\n",
    "3. SQL\n",
    "4. Java\n",
    "5. SAS"
   ]
  },
  {
   "cell_type": "markdown",
   "id": "ad2a52ea-7751-4307-9455-bd3cc0c74bfd",
   "metadata": {},
   "source": [
    "Some of the commonly used libraries used by Data Scientist include:\n",
    "1. Pandas\n",
    "2. SciPy\n",
    "3. Sckikit-learn\n",
    "4. NumPy"
   ]
  },
  {
   "cell_type": "markdown",
   "id": "4bf8a56d-0764-4bae-9c74-733bc9141c21",
   "metadata": {},
   "source": [
    "|Data Science Tools|\n",
    "|:------------------|\n",
    "|GitLab|\n",
    "|Tensor Flow|\n",
    "|Linux|\n"
   ]
  },
  {
   "cell_type": "code",
   "execution_count": null,
   "id": "bba7b253-4262-4aa0-9d1e-d732547a8859",
   "metadata": {},
   "outputs": [],
   "source": [
    "### Below are a few examples "
   ]
  },
  {
   "cell_type": "code",
   "execution_count": 3,
   "id": "5866dfb4-b23e-4519-80ae-77ea189f87ba",
   "metadata": {},
   "outputs": [
    {
     "data": {
      "text/plain": [
       "17"
      ]
     },
     "execution_count": 3,
     "metadata": {},
     "output_type": "execute_result"
    }
   ],
   "source": [
    "# This is a simple arithmetic expression to multiple then add integers \n",
    ">>> (3 * 4) + 5"
   ]
  },
  {
   "cell_type": "code",
   "execution_count": 4,
   "id": "80b67bee-0bea-4815-bab8-9758bd9024af",
   "metadata": {},
   "outputs": [
    {
     "data": {
      "text/plain": [
       "3.3333333333333335"
      ]
     },
     "execution_count": 4,
     "metadata": {},
     "output_type": "execute_result"
    }
   ],
   "source": [
    "# This will convert 200 mintues to hours by diving by 60\n",
    ">>> 200/60"
   ]
  },
  {
   "cell_type": "markdown",
   "id": "eddfb6bf-7a60-4b3c-93b8-24e646ab498b",
   "metadata": {},
   "source": [
    "**Objectives:**\n",
    "- Popular languages for Data Science\n",
    "- Examples of open source tools\n",
    "- Lists of tasks to build models "
   ]
  },
  {
   "cell_type": "markdown",
   "id": "7631781d-21eb-47f4-93b4-eb0b30b2bf49",
   "metadata": {},
   "source": [
    "## Author\n",
    "Manisha Pathak "
   ]
  },
  {
   "cell_type": "code",
   "execution_count": null,
   "id": "913a0c97-17f3-4b79-9c0f-925f16dd6ab0",
   "metadata": {},
   "outputs": [],
   "source": []
  }
 ],
 "metadata": {
  "kernelspec": {
   "display_name": "Python 3 (ipykernel)",
   "language": "python",
   "name": "python3"
  },
  "language_info": {
   "codemirror_mode": {
    "name": "ipython",
    "version": 3
   },
   "file_extension": ".py",
   "mimetype": "text/x-python",
   "name": "python",
   "nbconvert_exporter": "python",
   "pygments_lexer": "ipython3",
   "version": "3.13.5"
  }
 },
 "nbformat": 4,
 "nbformat_minor": 5
}
